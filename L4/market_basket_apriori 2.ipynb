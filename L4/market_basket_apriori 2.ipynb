{
 "cells": [
  {
   "cell_type": "code",
   "execution_count": 84,
   "metadata": {},
   "outputs": [],
   "source": [
    "import pandas as pd\n",
    "import numpy as np\n",
    "import matplotlib.pyplot as plt\n",
    "from mlxtend.frequent_patterns import apriori\n",
    "from mlxtend.frequent_patterns import association_rules"
   ]
  },
  {
   "cell_type": "code",
   "execution_count": 85,
   "metadata": {},
   "outputs": [],
   "source": [
    "# header=None，不将第一行作为head\n",
    "dataset = pd.read_csv('./Market_Basket_Optimisation.csv', header = None) \n",
    "# shape为(7501,20)"
   ]
  },
  {
   "cell_type": "code",
   "execution_count": 86,
   "metadata": {},
   "outputs": [
    {
     "output_type": "execute_result",
     "data": {
      "text/plain": "                 0                  1            2                 3   \\\n0            shrimp            almonds      avocado    vegetables mix   \n1           burgers          meatballs         eggs               NaN   \n2           chutney                NaN          NaN               NaN   \n3            turkey            avocado          NaN               NaN   \n4     mineral water               milk   energy bar  whole wheat rice   \n...             ...                ...          ...               ...   \n7496         butter         light mayo  fresh bread               NaN   \n7497        burgers  frozen vegetables         eggs      french fries   \n7498        chicken                NaN          NaN               NaN   \n7499       escalope          green tea          NaN               NaN   \n7500           eggs    frozen smoothie  yogurt cake    low fat yogurt   \n\n                4                 5     6               7             8   \\\n0     green grapes  whole weat flour  yams  cottage cheese  energy drink   \n1              NaN               NaN   NaN             NaN           NaN   \n2              NaN               NaN   NaN             NaN           NaN   \n3              NaN               NaN   NaN             NaN           NaN   \n4        green tea               NaN   NaN             NaN           NaN   \n...            ...               ...   ...             ...           ...   \n7496           NaN               NaN   NaN             NaN           NaN   \n7497     magazines         green tea   NaN             NaN           NaN   \n7498           NaN               NaN   NaN             NaN           NaN   \n7499           NaN               NaN   NaN             NaN           NaN   \n7500           NaN               NaN   NaN             NaN           NaN   \n\n                9               10         11     12     13             14  \\\n0     tomato juice  low fat yogurt  green tea  honey  salad  mineral water   \n1              NaN             NaN        NaN    NaN    NaN            NaN   \n2              NaN             NaN        NaN    NaN    NaN            NaN   \n3              NaN             NaN        NaN    NaN    NaN            NaN   \n4              NaN             NaN        NaN    NaN    NaN            NaN   \n...            ...             ...        ...    ...    ...            ...   \n7496           NaN             NaN        NaN    NaN    NaN            NaN   \n7497           NaN             NaN        NaN    NaN    NaN            NaN   \n7498           NaN             NaN        NaN    NaN    NaN            NaN   \n7499           NaN             NaN        NaN    NaN    NaN            NaN   \n7500           NaN             NaN        NaN    NaN    NaN            NaN   \n\n          15                 16               17       18         19  \n0     salmon  antioxydant juice  frozen smoothie  spinach  olive oil  \n1        NaN                NaN              NaN      NaN        NaN  \n2        NaN                NaN              NaN      NaN        NaN  \n3        NaN                NaN              NaN      NaN        NaN  \n4        NaN                NaN              NaN      NaN        NaN  \n...      ...                ...              ...      ...        ...  \n7496     NaN                NaN              NaN      NaN        NaN  \n7497     NaN                NaN              NaN      NaN        NaN  \n7498     NaN                NaN              NaN      NaN        NaN  \n7499     NaN                NaN              NaN      NaN        NaN  \n7500     NaN                NaN              NaN      NaN        NaN  \n\n[7501 rows x 20 columns]",
      "text/html": "<div>\n<style scoped>\n    .dataframe tbody tr th:only-of-type {\n        vertical-align: middle;\n    }\n\n    .dataframe tbody tr th {\n        vertical-align: top;\n    }\n\n    .dataframe thead th {\n        text-align: right;\n    }\n</style>\n<table border=\"1\" class=\"dataframe\">\n  <thead>\n    <tr style=\"text-align: right;\">\n      <th></th>\n      <th>0</th>\n      <th>1</th>\n      <th>2</th>\n      <th>3</th>\n      <th>4</th>\n      <th>5</th>\n      <th>6</th>\n      <th>7</th>\n      <th>8</th>\n      <th>9</th>\n      <th>10</th>\n      <th>11</th>\n      <th>12</th>\n      <th>13</th>\n      <th>14</th>\n      <th>15</th>\n      <th>16</th>\n      <th>17</th>\n      <th>18</th>\n      <th>19</th>\n    </tr>\n  </thead>\n  <tbody>\n    <tr>\n      <td>0</td>\n      <td>shrimp</td>\n      <td>almonds</td>\n      <td>avocado</td>\n      <td>vegetables mix</td>\n      <td>green grapes</td>\n      <td>whole weat flour</td>\n      <td>yams</td>\n      <td>cottage cheese</td>\n      <td>energy drink</td>\n      <td>tomato juice</td>\n      <td>low fat yogurt</td>\n      <td>green tea</td>\n      <td>honey</td>\n      <td>salad</td>\n      <td>mineral water</td>\n      <td>salmon</td>\n      <td>antioxydant juice</td>\n      <td>frozen smoothie</td>\n      <td>spinach</td>\n      <td>olive oil</td>\n    </tr>\n    <tr>\n      <td>1</td>\n      <td>burgers</td>\n      <td>meatballs</td>\n      <td>eggs</td>\n      <td>NaN</td>\n      <td>NaN</td>\n      <td>NaN</td>\n      <td>NaN</td>\n      <td>NaN</td>\n      <td>NaN</td>\n      <td>NaN</td>\n      <td>NaN</td>\n      <td>NaN</td>\n      <td>NaN</td>\n      <td>NaN</td>\n      <td>NaN</td>\n      <td>NaN</td>\n      <td>NaN</td>\n      <td>NaN</td>\n      <td>NaN</td>\n      <td>NaN</td>\n    </tr>\n    <tr>\n      <td>2</td>\n      <td>chutney</td>\n      <td>NaN</td>\n      <td>NaN</td>\n      <td>NaN</td>\n      <td>NaN</td>\n      <td>NaN</td>\n      <td>NaN</td>\n      <td>NaN</td>\n      <td>NaN</td>\n      <td>NaN</td>\n      <td>NaN</td>\n      <td>NaN</td>\n      <td>NaN</td>\n      <td>NaN</td>\n      <td>NaN</td>\n      <td>NaN</td>\n      <td>NaN</td>\n      <td>NaN</td>\n      <td>NaN</td>\n      <td>NaN</td>\n    </tr>\n    <tr>\n      <td>3</td>\n      <td>turkey</td>\n      <td>avocado</td>\n      <td>NaN</td>\n      <td>NaN</td>\n      <td>NaN</td>\n      <td>NaN</td>\n      <td>NaN</td>\n      <td>NaN</td>\n      <td>NaN</td>\n      <td>NaN</td>\n      <td>NaN</td>\n      <td>NaN</td>\n      <td>NaN</td>\n      <td>NaN</td>\n      <td>NaN</td>\n      <td>NaN</td>\n      <td>NaN</td>\n      <td>NaN</td>\n      <td>NaN</td>\n      <td>NaN</td>\n    </tr>\n    <tr>\n      <td>4</td>\n      <td>mineral water</td>\n      <td>milk</td>\n      <td>energy bar</td>\n      <td>whole wheat rice</td>\n      <td>green tea</td>\n      <td>NaN</td>\n      <td>NaN</td>\n      <td>NaN</td>\n      <td>NaN</td>\n      <td>NaN</td>\n      <td>NaN</td>\n      <td>NaN</td>\n      <td>NaN</td>\n      <td>NaN</td>\n      <td>NaN</td>\n      <td>NaN</td>\n      <td>NaN</td>\n      <td>NaN</td>\n      <td>NaN</td>\n      <td>NaN</td>\n    </tr>\n    <tr>\n      <td>...</td>\n      <td>...</td>\n      <td>...</td>\n      <td>...</td>\n      <td>...</td>\n      <td>...</td>\n      <td>...</td>\n      <td>...</td>\n      <td>...</td>\n      <td>...</td>\n      <td>...</td>\n      <td>...</td>\n      <td>...</td>\n      <td>...</td>\n      <td>...</td>\n      <td>...</td>\n      <td>...</td>\n      <td>...</td>\n      <td>...</td>\n      <td>...</td>\n      <td>...</td>\n    </tr>\n    <tr>\n      <td>7496</td>\n      <td>butter</td>\n      <td>light mayo</td>\n      <td>fresh bread</td>\n      <td>NaN</td>\n      <td>NaN</td>\n      <td>NaN</td>\n      <td>NaN</td>\n      <td>NaN</td>\n      <td>NaN</td>\n      <td>NaN</td>\n      <td>NaN</td>\n      <td>NaN</td>\n      <td>NaN</td>\n      <td>NaN</td>\n      <td>NaN</td>\n      <td>NaN</td>\n      <td>NaN</td>\n      <td>NaN</td>\n      <td>NaN</td>\n      <td>NaN</td>\n    </tr>\n    <tr>\n      <td>7497</td>\n      <td>burgers</td>\n      <td>frozen vegetables</td>\n      <td>eggs</td>\n      <td>french fries</td>\n      <td>magazines</td>\n      <td>green tea</td>\n      <td>NaN</td>\n      <td>NaN</td>\n      <td>NaN</td>\n      <td>NaN</td>\n      <td>NaN</td>\n      <td>NaN</td>\n      <td>NaN</td>\n      <td>NaN</td>\n      <td>NaN</td>\n      <td>NaN</td>\n      <td>NaN</td>\n      <td>NaN</td>\n      <td>NaN</td>\n      <td>NaN</td>\n    </tr>\n    <tr>\n      <td>7498</td>\n      <td>chicken</td>\n      <td>NaN</td>\n      <td>NaN</td>\n      <td>NaN</td>\n      <td>NaN</td>\n      <td>NaN</td>\n      <td>NaN</td>\n      <td>NaN</td>\n      <td>NaN</td>\n      <td>NaN</td>\n      <td>NaN</td>\n      <td>NaN</td>\n      <td>NaN</td>\n      <td>NaN</td>\n      <td>NaN</td>\n      <td>NaN</td>\n      <td>NaN</td>\n      <td>NaN</td>\n      <td>NaN</td>\n      <td>NaN</td>\n    </tr>\n    <tr>\n      <td>7499</td>\n      <td>escalope</td>\n      <td>green tea</td>\n      <td>NaN</td>\n      <td>NaN</td>\n      <td>NaN</td>\n      <td>NaN</td>\n      <td>NaN</td>\n      <td>NaN</td>\n      <td>NaN</td>\n      <td>NaN</td>\n      <td>NaN</td>\n      <td>NaN</td>\n      <td>NaN</td>\n      <td>NaN</td>\n      <td>NaN</td>\n      <td>NaN</td>\n      <td>NaN</td>\n      <td>NaN</td>\n      <td>NaN</td>\n      <td>NaN</td>\n    </tr>\n    <tr>\n      <td>7500</td>\n      <td>eggs</td>\n      <td>frozen smoothie</td>\n      <td>yogurt cake</td>\n      <td>low fat yogurt</td>\n      <td>NaN</td>\n      <td>NaN</td>\n      <td>NaN</td>\n      <td>NaN</td>\n      <td>NaN</td>\n      <td>NaN</td>\n      <td>NaN</td>\n      <td>NaN</td>\n      <td>NaN</td>\n      <td>NaN</td>\n      <td>NaN</td>\n      <td>NaN</td>\n      <td>NaN</td>\n      <td>NaN</td>\n      <td>NaN</td>\n      <td>NaN</td>\n    </tr>\n  </tbody>\n</table>\n<p>7501 rows × 20 columns</p>\n</div>"
     },
     "metadata": {},
     "execution_count": 86
    }
   ],
   "source": [
    "dataset"
   ]
  },
  {
   "cell_type": "code",
   "execution_count": 87,
   "metadata": {},
   "outputs": [
    {
     "output_type": "execute_result",
     "data": {
      "text/plain": "0              shrimp\n1             almonds\n2             avocado\n3      vegetables mix\n4        green grapes\n            ...      \n115      burger sauce\n116           oatmeal\n117         asparagus\n118             cream\n119           napkins\nLength: 120, dtype: object"
     },
     "metadata": {},
     "execution_count": 87
    }
   ],
   "source": [
    "# 生成一个完整的产品清单\n",
    "product = []\n",
    "for i in range(0, dataset.shape[0]):\n",
    "    for j in range(0,dataset.shape[1]):\n",
    "        if str(dataset.values[i,j]) != 'nan' and  dataset.values[i,j] not in product:\n",
    "            product.append(dataset.values[i,j])\n",
    "product = pd.Series(product)\n",
    "product"
   ]
  },
  {
   "cell_type": "code",
   "execution_count": 88,
   "metadata": {},
   "outputs": [
    {
     "output_type": "execute_result",
     "data": {
      "text/plain": "      shrimp  almonds  avocado  vegetables mix  green grapes  \\\n0        0.0      0.0      0.0             0.0           0.0   \n1        0.0      0.0      0.0             0.0           0.0   \n2        0.0      0.0      0.0             0.0           0.0   \n3        0.0      0.0      0.0             0.0           0.0   \n4        0.0      0.0      0.0             0.0           0.0   \n...      ...      ...      ...             ...           ...   \n7496     0.0      0.0      0.0             0.0           0.0   \n7497     0.0      0.0      0.0             0.0           0.0   \n7498     0.0      0.0      0.0             0.0           0.0   \n7499     0.0      0.0      0.0             0.0           0.0   \n7500     0.0      0.0      0.0             0.0           0.0   \n\n      whole weat flour  yams  cottage cheese  energy drink  tomato juice  ...  \\\n0                  0.0   0.0             0.0           0.0           0.0  ...   \n1                  0.0   0.0             0.0           0.0           0.0  ...   \n2                  0.0   0.0             0.0           0.0           0.0  ...   \n3                  0.0   0.0             0.0           0.0           0.0  ...   \n4                  0.0   0.0             0.0           0.0           0.0  ...   \n...                ...   ...             ...           ...           ...  ...   \n7496               0.0   0.0             0.0           0.0           0.0  ...   \n7497               0.0   0.0             0.0           0.0           0.0  ...   \n7498               0.0   0.0             0.0           0.0           0.0  ...   \n7499               0.0   0.0             0.0           0.0           0.0  ...   \n7500               0.0   0.0             0.0           0.0           0.0  ...   \n\n      melons  cauliflower  green beans  ketchup  bramble  burger sauce  \\\n0        0.0          0.0          0.0      0.0      0.0           0.0   \n1        0.0          0.0          0.0      0.0      0.0           0.0   \n2        0.0          0.0          0.0      0.0      0.0           0.0   \n3        0.0          0.0          0.0      0.0      0.0           0.0   \n4        0.0          0.0          0.0      0.0      0.0           0.0   \n...      ...          ...          ...      ...      ...           ...   \n7496     0.0          0.0          0.0      0.0      0.0           0.0   \n7497     0.0          0.0          0.0      0.0      0.0           0.0   \n7498     0.0          0.0          0.0      0.0      0.0           0.0   \n7499     0.0          0.0          0.0      0.0      0.0           0.0   \n7500     0.0          0.0          0.0      0.0      0.0           0.0   \n\n      oatmeal   asparagus  cream  napkins  \n0         0.0         0.0    0.0      0.0  \n1         0.0         0.0    0.0      0.0  \n2         0.0         0.0    0.0      0.0  \n3         0.0         0.0    0.0      0.0  \n4         0.0         0.0    0.0      0.0  \n...       ...         ...    ...      ...  \n7496      0.0         0.0    0.0      0.0  \n7497      0.0         0.0    0.0      0.0  \n7498      0.0         0.0    0.0      0.0  \n7499      0.0         0.0    0.0      0.0  \n7500      0.0         0.0    0.0      0.0  \n\n[7501 rows x 120 columns]",
      "text/html": "<div>\n<style scoped>\n    .dataframe tbody tr th:only-of-type {\n        vertical-align: middle;\n    }\n\n    .dataframe tbody tr th {\n        vertical-align: top;\n    }\n\n    .dataframe thead th {\n        text-align: right;\n    }\n</style>\n<table border=\"1\" class=\"dataframe\">\n  <thead>\n    <tr style=\"text-align: right;\">\n      <th></th>\n      <th>shrimp</th>\n      <th>almonds</th>\n      <th>avocado</th>\n      <th>vegetables mix</th>\n      <th>green grapes</th>\n      <th>whole weat flour</th>\n      <th>yams</th>\n      <th>cottage cheese</th>\n      <th>energy drink</th>\n      <th>tomato juice</th>\n      <th>...</th>\n      <th>melons</th>\n      <th>cauliflower</th>\n      <th>green beans</th>\n      <th>ketchup</th>\n      <th>bramble</th>\n      <th>burger sauce</th>\n      <th>oatmeal</th>\n      <th>asparagus</th>\n      <th>cream</th>\n      <th>napkins</th>\n    </tr>\n  </thead>\n  <tbody>\n    <tr>\n      <td>0</td>\n      <td>0.0</td>\n      <td>0.0</td>\n      <td>0.0</td>\n      <td>0.0</td>\n      <td>0.0</td>\n      <td>0.0</td>\n      <td>0.0</td>\n      <td>0.0</td>\n      <td>0.0</td>\n      <td>0.0</td>\n      <td>...</td>\n      <td>0.0</td>\n      <td>0.0</td>\n      <td>0.0</td>\n      <td>0.0</td>\n      <td>0.0</td>\n      <td>0.0</td>\n      <td>0.0</td>\n      <td>0.0</td>\n      <td>0.0</td>\n      <td>0.0</td>\n    </tr>\n    <tr>\n      <td>1</td>\n      <td>0.0</td>\n      <td>0.0</td>\n      <td>0.0</td>\n      <td>0.0</td>\n      <td>0.0</td>\n      <td>0.0</td>\n      <td>0.0</td>\n      <td>0.0</td>\n      <td>0.0</td>\n      <td>0.0</td>\n      <td>...</td>\n      <td>0.0</td>\n      <td>0.0</td>\n      <td>0.0</td>\n      <td>0.0</td>\n      <td>0.0</td>\n      <td>0.0</td>\n      <td>0.0</td>\n      <td>0.0</td>\n      <td>0.0</td>\n      <td>0.0</td>\n    </tr>\n    <tr>\n      <td>2</td>\n      <td>0.0</td>\n      <td>0.0</td>\n      <td>0.0</td>\n      <td>0.0</td>\n      <td>0.0</td>\n      <td>0.0</td>\n      <td>0.0</td>\n      <td>0.0</td>\n      <td>0.0</td>\n      <td>0.0</td>\n      <td>...</td>\n      <td>0.0</td>\n      <td>0.0</td>\n      <td>0.0</td>\n      <td>0.0</td>\n      <td>0.0</td>\n      <td>0.0</td>\n      <td>0.0</td>\n      <td>0.0</td>\n      <td>0.0</td>\n      <td>0.0</td>\n    </tr>\n    <tr>\n      <td>3</td>\n      <td>0.0</td>\n      <td>0.0</td>\n      <td>0.0</td>\n      <td>0.0</td>\n      <td>0.0</td>\n      <td>0.0</td>\n      <td>0.0</td>\n      <td>0.0</td>\n      <td>0.0</td>\n      <td>0.0</td>\n      <td>...</td>\n      <td>0.0</td>\n      <td>0.0</td>\n      <td>0.0</td>\n      <td>0.0</td>\n      <td>0.0</td>\n      <td>0.0</td>\n      <td>0.0</td>\n      <td>0.0</td>\n      <td>0.0</td>\n      <td>0.0</td>\n    </tr>\n    <tr>\n      <td>4</td>\n      <td>0.0</td>\n      <td>0.0</td>\n      <td>0.0</td>\n      <td>0.0</td>\n      <td>0.0</td>\n      <td>0.0</td>\n      <td>0.0</td>\n      <td>0.0</td>\n      <td>0.0</td>\n      <td>0.0</td>\n      <td>...</td>\n      <td>0.0</td>\n      <td>0.0</td>\n      <td>0.0</td>\n      <td>0.0</td>\n      <td>0.0</td>\n      <td>0.0</td>\n      <td>0.0</td>\n      <td>0.0</td>\n      <td>0.0</td>\n      <td>0.0</td>\n    </tr>\n    <tr>\n      <td>...</td>\n      <td>...</td>\n      <td>...</td>\n      <td>...</td>\n      <td>...</td>\n      <td>...</td>\n      <td>...</td>\n      <td>...</td>\n      <td>...</td>\n      <td>...</td>\n      <td>...</td>\n      <td>...</td>\n      <td>...</td>\n      <td>...</td>\n      <td>...</td>\n      <td>...</td>\n      <td>...</td>\n      <td>...</td>\n      <td>...</td>\n      <td>...</td>\n      <td>...</td>\n      <td>...</td>\n    </tr>\n    <tr>\n      <td>7496</td>\n      <td>0.0</td>\n      <td>0.0</td>\n      <td>0.0</td>\n      <td>0.0</td>\n      <td>0.0</td>\n      <td>0.0</td>\n      <td>0.0</td>\n      <td>0.0</td>\n      <td>0.0</td>\n      <td>0.0</td>\n      <td>...</td>\n      <td>0.0</td>\n      <td>0.0</td>\n      <td>0.0</td>\n      <td>0.0</td>\n      <td>0.0</td>\n      <td>0.0</td>\n      <td>0.0</td>\n      <td>0.0</td>\n      <td>0.0</td>\n      <td>0.0</td>\n    </tr>\n    <tr>\n      <td>7497</td>\n      <td>0.0</td>\n      <td>0.0</td>\n      <td>0.0</td>\n      <td>0.0</td>\n      <td>0.0</td>\n      <td>0.0</td>\n      <td>0.0</td>\n      <td>0.0</td>\n      <td>0.0</td>\n      <td>0.0</td>\n      <td>...</td>\n      <td>0.0</td>\n      <td>0.0</td>\n      <td>0.0</td>\n      <td>0.0</td>\n      <td>0.0</td>\n      <td>0.0</td>\n      <td>0.0</td>\n      <td>0.0</td>\n      <td>0.0</td>\n      <td>0.0</td>\n    </tr>\n    <tr>\n      <td>7498</td>\n      <td>0.0</td>\n      <td>0.0</td>\n      <td>0.0</td>\n      <td>0.0</td>\n      <td>0.0</td>\n      <td>0.0</td>\n      <td>0.0</td>\n      <td>0.0</td>\n      <td>0.0</td>\n      <td>0.0</td>\n      <td>...</td>\n      <td>0.0</td>\n      <td>0.0</td>\n      <td>0.0</td>\n      <td>0.0</td>\n      <td>0.0</td>\n      <td>0.0</td>\n      <td>0.0</td>\n      <td>0.0</td>\n      <td>0.0</td>\n      <td>0.0</td>\n    </tr>\n    <tr>\n      <td>7499</td>\n      <td>0.0</td>\n      <td>0.0</td>\n      <td>0.0</td>\n      <td>0.0</td>\n      <td>0.0</td>\n      <td>0.0</td>\n      <td>0.0</td>\n      <td>0.0</td>\n      <td>0.0</td>\n      <td>0.0</td>\n      <td>...</td>\n      <td>0.0</td>\n      <td>0.0</td>\n      <td>0.0</td>\n      <td>0.0</td>\n      <td>0.0</td>\n      <td>0.0</td>\n      <td>0.0</td>\n      <td>0.0</td>\n      <td>0.0</td>\n      <td>0.0</td>\n    </tr>\n    <tr>\n      <td>7500</td>\n      <td>0.0</td>\n      <td>0.0</td>\n      <td>0.0</td>\n      <td>0.0</td>\n      <td>0.0</td>\n      <td>0.0</td>\n      <td>0.0</td>\n      <td>0.0</td>\n      <td>0.0</td>\n      <td>0.0</td>\n      <td>...</td>\n      <td>0.0</td>\n      <td>0.0</td>\n      <td>0.0</td>\n      <td>0.0</td>\n      <td>0.0</td>\n      <td>0.0</td>\n      <td>0.0</td>\n      <td>0.0</td>\n      <td>0.0</td>\n      <td>0.0</td>\n    </tr>\n  </tbody>\n</table>\n<p>7501 rows × 120 columns</p>\n</div>"
     },
     "metadata": {},
     "execution_count": 88
    }
   ],
   "source": [
    "# 创建一个全为零的dummies矩阵\n",
    "zero_matrix = np.zeros((dataset.shape[0], product.shape[0]))\n",
    "dummies = pd.DataFrame(zero_matrix, columns=product)\n",
    "dummies"
   ]
  },
  {
   "cell_type": "code",
   "execution_count": 92,
   "metadata": {
    "tags": []
   },
   "outputs": [],
   "source": [
    "# 遍历dataset，把dataset每条Index中买过的产品标记到dummies中\n",
    "for i in range(0,dataset.shape[0]):\n",
    "    for j in enumerate(dataset.iloc[i]):\n",
    "        x = dummies.columns.get_indexer(j)[1]\n",
    "        if x != -1:\n",
    "            dummies.iloc[i, x] = 1"
   ]
  },
  {
   "cell_type": "code",
   "execution_count": 93,
   "metadata": {
    "tags": []
   },
   "outputs": [
    {
     "output_type": "stream",
     "name": "stdout",
     "text": "-------------------- 频繁项集 --------------------\n     support                    itemsets\n3   0.238368             (mineral water)\n7   0.179709                      (eggs)\n14  0.174110                 (spaghetti)\n11  0.170911              (french fries)\n17  0.163845                 (chocolate)\n2   0.132116                 (green tea)\n9   0.129583                      (milk)\n22  0.098254               (ground beef)\n13  0.095321         (frozen vegetables)\n20  0.095054                  (pancakes)\n6   0.087188                   (burgers)\n24  0.081056                      (cake)\n15  0.080389                   (cookies)\n23  0.079323                  (escalope)\n1   0.076523            (low fat yogurt)\n0   0.071457                    (shrimp)\n19  0.068391                  (tomatoes)\n5   0.065858                 (olive oil)\n4   0.063325           (frozen smoothie)\n8   0.062525                    (turkey)\n18  0.059992                   (chicken)\n26  0.059725  (spaghetti, mineral water)\n10  0.058526          (whole wheat rice)\n27  0.052660  (chocolate, mineral water)\n21  0.052393             (grated cheese)\n16  0.051060               (cooking oil)\n25  0.050927       (eggs, mineral water)\n12  0.050527                      (soup)\n"
    }
   ],
   "source": [
    "# 挖掘频繁项集，最小支持度为0.05\n",
    "itemsets = apriori(dummies,use_colnames=True, min_support=0.05)\n",
    "itemsets = itemsets.sort_values(by=\"support\" , ascending=False) \n",
    "print('-'*20, '频繁项集', '-'*20)\n",
    "print(itemsets)"
   ]
  },
  {
   "cell_type": "code",
   "execution_count": 94,
   "metadata": {
    "tags": []
   },
   "outputs": [
    {
     "output_type": "stream",
     "name": "stdout",
     "text": "-------------------- 关联规则 --------------------\n"
    },
    {
     "output_type": "execute_result",
     "data": {
      "text/plain": "       antecedents      consequents  antecedent support  consequent support  \\\n0      (spaghetti)  (mineral water)            0.174110            0.238368   \n1  (mineral water)      (spaghetti)            0.238368            0.174110   \n2      (chocolate)  (mineral water)            0.163845            0.238368   \n3  (mineral water)      (chocolate)            0.238368            0.163845   \n4           (eggs)  (mineral water)            0.179709            0.238368   \n5  (mineral water)           (eggs)            0.238368            0.179709   \n\n    support  confidence      lift  leverage  conviction  \n0  0.059725    0.343032  1.439085  0.018223    1.159314  \n1  0.059725    0.250559  1.439085  0.018223    1.102008  \n2  0.052660    0.321400  1.348332  0.013604    1.122357  \n3  0.052660    0.220917  1.348332  0.013604    1.073256  \n4  0.050927    0.283383  1.188845  0.008090    1.062815  \n5  0.050927    0.213647  1.188845  0.008090    1.043158  ",
      "text/html": "<div>\n<style scoped>\n    .dataframe tbody tr th:only-of-type {\n        vertical-align: middle;\n    }\n\n    .dataframe tbody tr th {\n        vertical-align: top;\n    }\n\n    .dataframe thead th {\n        text-align: right;\n    }\n</style>\n<table border=\"1\" class=\"dataframe\">\n  <thead>\n    <tr style=\"text-align: right;\">\n      <th></th>\n      <th>antecedents</th>\n      <th>consequents</th>\n      <th>antecedent support</th>\n      <th>consequent support</th>\n      <th>support</th>\n      <th>confidence</th>\n      <th>lift</th>\n      <th>leverage</th>\n      <th>conviction</th>\n    </tr>\n  </thead>\n  <tbody>\n    <tr>\n      <td>0</td>\n      <td>(spaghetti)</td>\n      <td>(mineral water)</td>\n      <td>0.174110</td>\n      <td>0.238368</td>\n      <td>0.059725</td>\n      <td>0.343032</td>\n      <td>1.439085</td>\n      <td>0.018223</td>\n      <td>1.159314</td>\n    </tr>\n    <tr>\n      <td>1</td>\n      <td>(mineral water)</td>\n      <td>(spaghetti)</td>\n      <td>0.238368</td>\n      <td>0.174110</td>\n      <td>0.059725</td>\n      <td>0.250559</td>\n      <td>1.439085</td>\n      <td>0.018223</td>\n      <td>1.102008</td>\n    </tr>\n    <tr>\n      <td>2</td>\n      <td>(chocolate)</td>\n      <td>(mineral water)</td>\n      <td>0.163845</td>\n      <td>0.238368</td>\n      <td>0.052660</td>\n      <td>0.321400</td>\n      <td>1.348332</td>\n      <td>0.013604</td>\n      <td>1.122357</td>\n    </tr>\n    <tr>\n      <td>3</td>\n      <td>(mineral water)</td>\n      <td>(chocolate)</td>\n      <td>0.238368</td>\n      <td>0.163845</td>\n      <td>0.052660</td>\n      <td>0.220917</td>\n      <td>1.348332</td>\n      <td>0.013604</td>\n      <td>1.073256</td>\n    </tr>\n    <tr>\n      <td>4</td>\n      <td>(eggs)</td>\n      <td>(mineral water)</td>\n      <td>0.179709</td>\n      <td>0.238368</td>\n      <td>0.050927</td>\n      <td>0.283383</td>\n      <td>1.188845</td>\n      <td>0.008090</td>\n      <td>1.062815</td>\n    </tr>\n    <tr>\n      <td>5</td>\n      <td>(mineral water)</td>\n      <td>(eggs)</td>\n      <td>0.238368</td>\n      <td>0.179709</td>\n      <td>0.050927</td>\n      <td>0.213647</td>\n      <td>1.188845</td>\n      <td>0.008090</td>\n      <td>1.043158</td>\n    </tr>\n  </tbody>\n</table>\n</div>"
     },
     "metadata": {},
     "execution_count": 94
    }
   ],
   "source": [
    "# 根据频繁项集计算关联规则，设置最小提升度为1,\n",
    "rules =  association_rules(itemsets, metric='lift', min_threshold=1)\n",
    "# 按照提升度从大到小进行排序\n",
    "rules = rules.sort_values(by='lift' , ascending=False) \n",
    "rules.to_csv('rules.csv')\n",
    "rules = pd.DataFrame(rules)\n",
    "print('-'*20, '关联规则', '-'*20)\n",
    "rules"
   ]
  }
 ],
 "metadata": {
  "language_info": {
   "codemirror_mode": {
    "name": "ipython",
    "version": 3
   },
   "file_extension": ".py",
   "mimetype": "text/x-python",
   "name": "python",
   "nbconvert_exporter": "python",
   "pygments_lexer": "ipython3",
   "version": "3.7.4-final"
  },
  "orig_nbformat": 2,
  "kernelspec": {
   "name": "python3",
   "display_name": "Python 3"
  }
 },
 "nbformat": 4,
 "nbformat_minor": 2
}