{
 "cells": [
  {
   "cell_type": "code",
   "execution_count": 2,
   "metadata": {},
   "outputs": [
    {
     "output_type": "execute_result",
     "data": {
      "text/plain": "         id  brand     car_model                   type  \\\n0    482028  一汽马自达           阿特兹       2020款 2.5L 蓝天运动版   \n1    482027   江淮汽车       江淮iEV6E            2017款 iEV6E   \n2    482026  一汽马自达           阿特兹       2020款 2.5L 蓝天运动版   \n3    482022  一汽-大众            迈腾   2009款 1.8TSI DSG 舒适型   \n4    482019   众泰汽车  众泰T600 Coupe      2017款 1.5T 自动 尊享型   \n..      ...    ...           ...                    ...   \n595  480802   北京现代            领动   2016款 1.6L 自动 智炫·精英型   \n596  480801  一汽-大众           高尔夫   2016款 1.4TSI 25周年纪念版   \n597  480799   吉利汽车            星越    2020款 350T 魅影骑士版AWD   \n598  480798   北京现代            悦纳  2016款 1.4L 手动 炫酷版 GLS   \n599  480795   东风日产            逍客     2016款 2.0L CVT 精英版   \n\n                       desc              problem    datetime status  \n0       一汽马自达阿特兹B柱异响 车内异响严重             H93,H15,  2020-06-08   信息审核  \n1        江淮iEV6E动力电池故障 无法充电                H343,  2020-06-08   信息审核  \n2         一汽马自达阿特兹车身异响 天窗异响         H93,H15,H89,  2020-06-08   信息审核  \n3        一汽大众迈腾起步和刹车时车辆抖动\\t            B84,E111,  2020-06-08   信息审核  \n4    众泰T600 Coupe售后维修配件一直缺货                N318,  2020-06-08   厂家受理  \n..                      ...                  ...         ...    ...  \n595   北京现代领动ABS和防侧滑故障灯同时亮\\t  E62,H170,I295,I294,  2020-06-05   信息审核  \n596      一汽大众高尔夫仪表提示变速箱挂入P挡                 B96,  2020-06-05   处理反馈  \n597       吉利星越车机系统虚假宣传 卡顿严重           H155,M279,  2020-06-05   用户评分  \n598         北京现代悦纳发动机曲轴螺丝断裂                A145,  2020-06-05   信息审核  \n599      东风日产逍客变速箱报故障码P17F1                 B84,  2020-06-05   处理反馈  \n\n[600 rows x 8 columns]",
      "text/html": "<div>\n<style scoped>\n    .dataframe tbody tr th:only-of-type {\n        vertical-align: middle;\n    }\n\n    .dataframe tbody tr th {\n        vertical-align: top;\n    }\n\n    .dataframe thead th {\n        text-align: right;\n    }\n</style>\n<table border=\"1\" class=\"dataframe\">\n  <thead>\n    <tr style=\"text-align: right;\">\n      <th></th>\n      <th>id</th>\n      <th>brand</th>\n      <th>car_model</th>\n      <th>type</th>\n      <th>desc</th>\n      <th>problem</th>\n      <th>datetime</th>\n      <th>status</th>\n    </tr>\n  </thead>\n  <tbody>\n    <tr>\n      <td>0</td>\n      <td>482028</td>\n      <td>一汽马自达</td>\n      <td>阿特兹</td>\n      <td>2020款 2.5L 蓝天运动版</td>\n      <td>一汽马自达阿特兹B柱异响 车内异响严重</td>\n      <td>H93,H15,</td>\n      <td>2020-06-08</td>\n      <td>信息审核</td>\n    </tr>\n    <tr>\n      <td>1</td>\n      <td>482027</td>\n      <td>江淮汽车</td>\n      <td>江淮iEV6E</td>\n      <td>2017款 iEV6E</td>\n      <td>江淮iEV6E动力电池故障 无法充电</td>\n      <td>H343,</td>\n      <td>2020-06-08</td>\n      <td>信息审核</td>\n    </tr>\n    <tr>\n      <td>2</td>\n      <td>482026</td>\n      <td>一汽马自达</td>\n      <td>阿特兹</td>\n      <td>2020款 2.5L 蓝天运动版</td>\n      <td>一汽马自达阿特兹车身异响 天窗异响</td>\n      <td>H93,H15,H89,</td>\n      <td>2020-06-08</td>\n      <td>信息审核</td>\n    </tr>\n    <tr>\n      <td>3</td>\n      <td>482022</td>\n      <td>一汽-大众</td>\n      <td>迈腾</td>\n      <td>2009款 1.8TSI DSG 舒适型</td>\n      <td>一汽大众迈腾起步和刹车时车辆抖动\\t</td>\n      <td>B84,E111,</td>\n      <td>2020-06-08</td>\n      <td>信息审核</td>\n    </tr>\n    <tr>\n      <td>4</td>\n      <td>482019</td>\n      <td>众泰汽车</td>\n      <td>众泰T600 Coupe</td>\n      <td>2017款 1.5T 自动 尊享型</td>\n      <td>众泰T600 Coupe售后维修配件一直缺货</td>\n      <td>N318,</td>\n      <td>2020-06-08</td>\n      <td>厂家受理</td>\n    </tr>\n    <tr>\n      <td>...</td>\n      <td>...</td>\n      <td>...</td>\n      <td>...</td>\n      <td>...</td>\n      <td>...</td>\n      <td>...</td>\n      <td>...</td>\n      <td>...</td>\n    </tr>\n    <tr>\n      <td>595</td>\n      <td>480802</td>\n      <td>北京现代</td>\n      <td>领动</td>\n      <td>2016款 1.6L 自动 智炫·精英型</td>\n      <td>北京现代领动ABS和防侧滑故障灯同时亮\\t</td>\n      <td>E62,H170,I295,I294,</td>\n      <td>2020-06-05</td>\n      <td>信息审核</td>\n    </tr>\n    <tr>\n      <td>596</td>\n      <td>480801</td>\n      <td>一汽-大众</td>\n      <td>高尔夫</td>\n      <td>2016款 1.4TSI 25周年纪念版</td>\n      <td>一汽大众高尔夫仪表提示变速箱挂入P挡</td>\n      <td>B96,</td>\n      <td>2020-06-05</td>\n      <td>处理反馈</td>\n    </tr>\n    <tr>\n      <td>597</td>\n      <td>480799</td>\n      <td>吉利汽车</td>\n      <td>星越</td>\n      <td>2020款 350T 魅影骑士版AWD</td>\n      <td>吉利星越车机系统虚假宣传 卡顿严重</td>\n      <td>H155,M279,</td>\n      <td>2020-06-05</td>\n      <td>用户评分</td>\n    </tr>\n    <tr>\n      <td>598</td>\n      <td>480798</td>\n      <td>北京现代</td>\n      <td>悦纳</td>\n      <td>2016款 1.4L 手动 炫酷版 GLS</td>\n      <td>北京现代悦纳发动机曲轴螺丝断裂</td>\n      <td>A145,</td>\n      <td>2020-06-05</td>\n      <td>信息审核</td>\n    </tr>\n    <tr>\n      <td>599</td>\n      <td>480795</td>\n      <td>东风日产</td>\n      <td>逍客</td>\n      <td>2016款 2.0L CVT 精英版</td>\n      <td>东风日产逍客变速箱报故障码P17F1</td>\n      <td>B84,</td>\n      <td>2020-06-05</td>\n      <td>处理反馈</td>\n    </tr>\n  </tbody>\n</table>\n<p>600 rows × 8 columns</p>\n</div>"
     },
     "metadata": {},
     "execution_count": 2
    }
   ],
   "source": [
    "#Step1:Import data\n",
    "import pandas as pd\n",
    "result = pd.read_csv('car_data_analyze/car_complain.csv')\n",
    "result"
   ]
  },
  {
   "cell_type": "code",
   "execution_count": 3,
   "metadata": {},
   "outputs": [
    {
     "output_type": "execute_result",
     "data": {
      "text/plain": "         id  brand     car_model                   type  \\\n0    482028  一汽马自达           阿特兹       2020款 2.5L 蓝天运动版   \n1    482027   江淮汽车       江淮iEV6E            2017款 iEV6E   \n2    482026  一汽马自达           阿特兹       2020款 2.5L 蓝天运动版   \n3    482022  一汽-大众            迈腾   2009款 1.8TSI DSG 舒适型   \n4    482019   众泰汽车  众泰T600 Coupe      2017款 1.5T 自动 尊享型   \n..      ...    ...           ...                    ...   \n595  480802   北京现代            领动   2016款 1.6L 自动 智炫·精英型   \n596  480801  一汽-大众           高尔夫   2016款 1.4TSI 25周年纪念版   \n597  480799   吉利汽车            星越    2020款 350T 魅影骑士版AWD   \n598  480798   北京现代            悦纳  2016款 1.4L 手动 炫酷版 GLS   \n599  480795   东风日产            逍客     2016款 2.0L CVT 精英版   \n\n                       desc    datetime status  A11  A114  A12  ...  N318  \\\n0       一汽马自达阿特兹B柱异响 车内异响严重  2020-06-08   信息审核    0     0    0  ...     0   \n1        江淮iEV6E动力电池故障 无法充电  2020-06-08   信息审核    0     0    0  ...     0   \n2         一汽马自达阿特兹车身异响 天窗异响  2020-06-08   信息审核    0     0    0  ...     0   \n3        一汽大众迈腾起步和刹车时车辆抖动\\t  2020-06-08   信息审核    0     0    0  ...     0   \n4    众泰T600 Coupe售后维修配件一直缺货  2020-06-08   厂家受理    0     0    0  ...     1   \n..                      ...         ...    ...  ...   ...  ...  ...   ...   \n595   北京现代领动ABS和防侧滑故障灯同时亮\\t  2020-06-05   信息审核    0     0    0  ...     0   \n596      一汽大众高尔夫仪表提示变速箱挂入P挡  2020-06-05   处理反馈    0     0    0  ...     0   \n597       吉利星越车机系统虚假宣传 卡顿严重  2020-06-05   用户评分    0     0    0  ...     0   \n598         北京现代悦纳发动机曲轴螺丝断裂  2020-06-05   信息审核    0     0    0  ...     0   \n599      东风日产逍客变速箱报故障码P17F1  2020-06-05   处理反馈    0     0    0  ...     0   \n\n     N319  O296  O326  O348  O354  Q322  Q323  Q349  Q350  \n0       0     0     0     0     0     0     0     0     0  \n1       0     0     0     0     0     0     0     0     0  \n2       0     0     0     0     0     0     0     0     0  \n3       0     0     0     0     0     0     0     0     0  \n4       0     0     0     0     0     0     0     0     0  \n..    ...   ...   ...   ...   ...   ...   ...   ...   ...  \n595     0     0     0     0     0     0     0     0     0  \n596     0     0     0     0     0     0     0     0     0  \n597     0     0     0     0     0     0     0     0     0  \n598     0     0     0     0     0     0     0     0     0  \n599     0     0     0     0     0     0     0     0     0  \n\n[600 rows x 181 columns]",
      "text/html": "<div>\n<style scoped>\n    .dataframe tbody tr th:only-of-type {\n        vertical-align: middle;\n    }\n\n    .dataframe tbody tr th {\n        vertical-align: top;\n    }\n\n    .dataframe thead th {\n        text-align: right;\n    }\n</style>\n<table border=\"1\" class=\"dataframe\">\n  <thead>\n    <tr style=\"text-align: right;\">\n      <th></th>\n      <th>id</th>\n      <th>brand</th>\n      <th>car_model</th>\n      <th>type</th>\n      <th>desc</th>\n      <th>datetime</th>\n      <th>status</th>\n      <th>A11</th>\n      <th>A114</th>\n      <th>A12</th>\n      <th>...</th>\n      <th>N318</th>\n      <th>N319</th>\n      <th>O296</th>\n      <th>O326</th>\n      <th>O348</th>\n      <th>O354</th>\n      <th>Q322</th>\n      <th>Q323</th>\n      <th>Q349</th>\n      <th>Q350</th>\n    </tr>\n  </thead>\n  <tbody>\n    <tr>\n      <td>0</td>\n      <td>482028</td>\n      <td>一汽马自达</td>\n      <td>阿特兹</td>\n      <td>2020款 2.5L 蓝天运动版</td>\n      <td>一汽马自达阿特兹B柱异响 车内异响严重</td>\n      <td>2020-06-08</td>\n      <td>信息审核</td>\n      <td>0</td>\n      <td>0</td>\n      <td>0</td>\n      <td>...</td>\n      <td>0</td>\n      <td>0</td>\n      <td>0</td>\n      <td>0</td>\n      <td>0</td>\n      <td>0</td>\n      <td>0</td>\n      <td>0</td>\n      <td>0</td>\n      <td>0</td>\n    </tr>\n    <tr>\n      <td>1</td>\n      <td>482027</td>\n      <td>江淮汽车</td>\n      <td>江淮iEV6E</td>\n      <td>2017款 iEV6E</td>\n      <td>江淮iEV6E动力电池故障 无法充电</td>\n      <td>2020-06-08</td>\n      <td>信息审核</td>\n      <td>0</td>\n      <td>0</td>\n      <td>0</td>\n      <td>...</td>\n      <td>0</td>\n      <td>0</td>\n      <td>0</td>\n      <td>0</td>\n      <td>0</td>\n      <td>0</td>\n      <td>0</td>\n      <td>0</td>\n      <td>0</td>\n      <td>0</td>\n    </tr>\n    <tr>\n      <td>2</td>\n      <td>482026</td>\n      <td>一汽马自达</td>\n      <td>阿特兹</td>\n      <td>2020款 2.5L 蓝天运动版</td>\n      <td>一汽马自达阿特兹车身异响 天窗异响</td>\n      <td>2020-06-08</td>\n      <td>信息审核</td>\n      <td>0</td>\n      <td>0</td>\n      <td>0</td>\n      <td>...</td>\n      <td>0</td>\n      <td>0</td>\n      <td>0</td>\n      <td>0</td>\n      <td>0</td>\n      <td>0</td>\n      <td>0</td>\n      <td>0</td>\n      <td>0</td>\n      <td>0</td>\n    </tr>\n    <tr>\n      <td>3</td>\n      <td>482022</td>\n      <td>一汽-大众</td>\n      <td>迈腾</td>\n      <td>2009款 1.8TSI DSG 舒适型</td>\n      <td>一汽大众迈腾起步和刹车时车辆抖动\\t</td>\n      <td>2020-06-08</td>\n      <td>信息审核</td>\n      <td>0</td>\n      <td>0</td>\n      <td>0</td>\n      <td>...</td>\n      <td>0</td>\n      <td>0</td>\n      <td>0</td>\n      <td>0</td>\n      <td>0</td>\n      <td>0</td>\n      <td>0</td>\n      <td>0</td>\n      <td>0</td>\n      <td>0</td>\n    </tr>\n    <tr>\n      <td>4</td>\n      <td>482019</td>\n      <td>众泰汽车</td>\n      <td>众泰T600 Coupe</td>\n      <td>2017款 1.5T 自动 尊享型</td>\n      <td>众泰T600 Coupe售后维修配件一直缺货</td>\n      <td>2020-06-08</td>\n      <td>厂家受理</td>\n      <td>0</td>\n      <td>0</td>\n      <td>0</td>\n      <td>...</td>\n      <td>1</td>\n      <td>0</td>\n      <td>0</td>\n      <td>0</td>\n      <td>0</td>\n      <td>0</td>\n      <td>0</td>\n      <td>0</td>\n      <td>0</td>\n      <td>0</td>\n    </tr>\n    <tr>\n      <td>...</td>\n      <td>...</td>\n      <td>...</td>\n      <td>...</td>\n      <td>...</td>\n      <td>...</td>\n      <td>...</td>\n      <td>...</td>\n      <td>...</td>\n      <td>...</td>\n      <td>...</td>\n      <td>...</td>\n      <td>...</td>\n      <td>...</td>\n      <td>...</td>\n      <td>...</td>\n      <td>...</td>\n      <td>...</td>\n      <td>...</td>\n      <td>...</td>\n      <td>...</td>\n      <td>...</td>\n    </tr>\n    <tr>\n      <td>595</td>\n      <td>480802</td>\n      <td>北京现代</td>\n      <td>领动</td>\n      <td>2016款 1.6L 自动 智炫·精英型</td>\n      <td>北京现代领动ABS和防侧滑故障灯同时亮\\t</td>\n      <td>2020-06-05</td>\n      <td>信息审核</td>\n      <td>0</td>\n      <td>0</td>\n      <td>0</td>\n      <td>...</td>\n      <td>0</td>\n      <td>0</td>\n      <td>0</td>\n      <td>0</td>\n      <td>0</td>\n      <td>0</td>\n      <td>0</td>\n      <td>0</td>\n      <td>0</td>\n      <td>0</td>\n    </tr>\n    <tr>\n      <td>596</td>\n      <td>480801</td>\n      <td>一汽-大众</td>\n      <td>高尔夫</td>\n      <td>2016款 1.4TSI 25周年纪念版</td>\n      <td>一汽大众高尔夫仪表提示变速箱挂入P挡</td>\n      <td>2020-06-05</td>\n      <td>处理反馈</td>\n      <td>0</td>\n      <td>0</td>\n      <td>0</td>\n      <td>...</td>\n      <td>0</td>\n      <td>0</td>\n      <td>0</td>\n      <td>0</td>\n      <td>0</td>\n      <td>0</td>\n      <td>0</td>\n      <td>0</td>\n      <td>0</td>\n      <td>0</td>\n    </tr>\n    <tr>\n      <td>597</td>\n      <td>480799</td>\n      <td>吉利汽车</td>\n      <td>星越</td>\n      <td>2020款 350T 魅影骑士版AWD</td>\n      <td>吉利星越车机系统虚假宣传 卡顿严重</td>\n      <td>2020-06-05</td>\n      <td>用户评分</td>\n      <td>0</td>\n      <td>0</td>\n      <td>0</td>\n      <td>...</td>\n      <td>0</td>\n      <td>0</td>\n      <td>0</td>\n      <td>0</td>\n      <td>0</td>\n      <td>0</td>\n      <td>0</td>\n      <td>0</td>\n      <td>0</td>\n      <td>0</td>\n    </tr>\n    <tr>\n      <td>598</td>\n      <td>480798</td>\n      <td>北京现代</td>\n      <td>悦纳</td>\n      <td>2016款 1.4L 手动 炫酷版 GLS</td>\n      <td>北京现代悦纳发动机曲轴螺丝断裂</td>\n      <td>2020-06-05</td>\n      <td>信息审核</td>\n      <td>0</td>\n      <td>0</td>\n      <td>0</td>\n      <td>...</td>\n      <td>0</td>\n      <td>0</td>\n      <td>0</td>\n      <td>0</td>\n      <td>0</td>\n      <td>0</td>\n      <td>0</td>\n      <td>0</td>\n      <td>0</td>\n      <td>0</td>\n    </tr>\n    <tr>\n      <td>599</td>\n      <td>480795</td>\n      <td>东风日产</td>\n      <td>逍客</td>\n      <td>2016款 2.0L CVT 精英版</td>\n      <td>东风日产逍客变速箱报故障码P17F1</td>\n      <td>2020-06-05</td>\n      <td>处理反馈</td>\n      <td>0</td>\n      <td>0</td>\n      <td>0</td>\n      <td>...</td>\n      <td>0</td>\n      <td>0</td>\n      <td>0</td>\n      <td>0</td>\n      <td>0</td>\n      <td>0</td>\n      <td>0</td>\n      <td>0</td>\n      <td>0</td>\n      <td>0</td>\n    </tr>\n  </tbody>\n</table>\n<p>600 rows × 181 columns</p>\n</div>"
     },
     "metadata": {},
     "execution_count": 3
    }
   ],
   "source": [
    "#Step2:Convert problem to independent columns\n",
    "result = result.drop('problem',1).join(result.problem.str.get_dummies(','))\n",
    "result"
   ]
  },
  {
   "cell_type": "code",
   "execution_count": 6,
   "metadata": {},
   "outputs": [
    {
     "output_type": "execute_result",
     "data": {
      "text/plain": "            id    brand car_model                            type  \\\n41      481940     上汽集团      名爵ZS         2019款 1.5L 自动 全球豪华版 国VI   \n627     481974    南京依维柯     依维柯得意  2017款 2.8T V35 箱货 中顶 3/6座 43S5   \n675     481858     长城汽车      哈弗H5     2018款 2.0T 手动 四驱 尊贵型 经典版 柴油   \n815     481549     华晨鑫源    海狮X30L           2018款 1.5L 财富版 DLCG14   \n1065    481059    东风雪铁龙    雪铁龙C4L               2015款 1.2T 自动 尊贵版   \n...        ...      ...       ...                             ...   \n102499  480987  一汽-大众奥迪     奥迪A4L              2017款 2.0T 双离合 进取型   \n102999  481192     北京现代        途胜         2015款 1.6T   双离合 两驱 智能型   \n103143  480901     北京现代        途胜         2015款 1.6T   双离合 两驱 智能型   \n103483  481421     奇瑞汽车     捷途X90         2019款 1.5T 自动 尊享型 6座 国V   \n104388  480810     吉利汽车        星越               2019款 改款 350T 耀星者   \n\n                            desc    datetime status problem_type  count  \n41           上汽名爵ZS方向跑偏发动机提速慢服务差  2020-06-08   厂家受理          A11      1  \n627          南京依维柯得意发动机烧机油排气管冒蓝烟  2020-06-08   信息审核         A114      1  \n675            哈弗H5自洁功能频繁售后未解决问题  2020-06-08   处理反馈         A114      1  \n815     金杯海狮X30L车门掉漆缝隙大 离合踏板掉落\\t  2020-06-07   信息审核         A114      1  \n1065            东风雪铁龙C4L发动机严重烧机油  2020-06-05   信息审核         A114      1  \n...                          ...         ...    ...          ...    ...  \n102499     一汽大众奥迪A4L转向机进水烧毁4S店拒赔  2020-06-05   信息审核         Q322      1  \n102999      北京现代途胜升级后动力弱油耗高厂家未回复  2020-06-06   信息审核         Q323      1  \n103143      北京现代途胜厂家召回升级后油耗升高动力弱  2020-06-05   信息审核         Q323      1  \n103483      捷途X90车机系统无法升级变速箱无最高挡  2020-06-07   处理反馈         Q349      1  \n104388           吉利星越车机卡顿版本与宣传不符  2020-06-05   处理反馈         Q350      1  \n\n[1089 rows x 9 columns]",
      "text/html": "<div>\n<style scoped>\n    .dataframe tbody tr th:only-of-type {\n        vertical-align: middle;\n    }\n\n    .dataframe tbody tr th {\n        vertical-align: top;\n    }\n\n    .dataframe thead th {\n        text-align: right;\n    }\n</style>\n<table border=\"1\" class=\"dataframe\">\n  <thead>\n    <tr style=\"text-align: right;\">\n      <th></th>\n      <th>id</th>\n      <th>brand</th>\n      <th>car_model</th>\n      <th>type</th>\n      <th>desc</th>\n      <th>datetime</th>\n      <th>status</th>\n      <th>problem_type</th>\n      <th>count</th>\n    </tr>\n  </thead>\n  <tbody>\n    <tr>\n      <td>41</td>\n      <td>481940</td>\n      <td>上汽集团</td>\n      <td>名爵ZS</td>\n      <td>2019款 1.5L 自动 全球豪华版 国VI</td>\n      <td>上汽名爵ZS方向跑偏发动机提速慢服务差</td>\n      <td>2020-06-08</td>\n      <td>厂家受理</td>\n      <td>A11</td>\n      <td>1</td>\n    </tr>\n    <tr>\n      <td>627</td>\n      <td>481974</td>\n      <td>南京依维柯</td>\n      <td>依维柯得意</td>\n      <td>2017款 2.8T V35 箱货 中顶 3/6座 43S5</td>\n      <td>南京依维柯得意发动机烧机油排气管冒蓝烟</td>\n      <td>2020-06-08</td>\n      <td>信息审核</td>\n      <td>A114</td>\n      <td>1</td>\n    </tr>\n    <tr>\n      <td>675</td>\n      <td>481858</td>\n      <td>长城汽车</td>\n      <td>哈弗H5</td>\n      <td>2018款 2.0T 手动 四驱 尊贵型 经典版 柴油</td>\n      <td>哈弗H5自洁功能频繁售后未解决问题</td>\n      <td>2020-06-08</td>\n      <td>处理反馈</td>\n      <td>A114</td>\n      <td>1</td>\n    </tr>\n    <tr>\n      <td>815</td>\n      <td>481549</td>\n      <td>华晨鑫源</td>\n      <td>海狮X30L</td>\n      <td>2018款 1.5L 财富版 DLCG14</td>\n      <td>金杯海狮X30L车门掉漆缝隙大 离合踏板掉落\\t</td>\n      <td>2020-06-07</td>\n      <td>信息审核</td>\n      <td>A114</td>\n      <td>1</td>\n    </tr>\n    <tr>\n      <td>1065</td>\n      <td>481059</td>\n      <td>东风雪铁龙</td>\n      <td>雪铁龙C4L</td>\n      <td>2015款 1.2T 自动 尊贵版</td>\n      <td>东风雪铁龙C4L发动机严重烧机油</td>\n      <td>2020-06-05</td>\n      <td>信息审核</td>\n      <td>A114</td>\n      <td>1</td>\n    </tr>\n    <tr>\n      <td>...</td>\n      <td>...</td>\n      <td>...</td>\n      <td>...</td>\n      <td>...</td>\n      <td>...</td>\n      <td>...</td>\n      <td>...</td>\n      <td>...</td>\n      <td>...</td>\n    </tr>\n    <tr>\n      <td>102499</td>\n      <td>480987</td>\n      <td>一汽-大众奥迪</td>\n      <td>奥迪A4L</td>\n      <td>2017款 2.0T 双离合 进取型</td>\n      <td>一汽大众奥迪A4L转向机进水烧毁4S店拒赔</td>\n      <td>2020-06-05</td>\n      <td>信息审核</td>\n      <td>Q322</td>\n      <td>1</td>\n    </tr>\n    <tr>\n      <td>102999</td>\n      <td>481192</td>\n      <td>北京现代</td>\n      <td>途胜</td>\n      <td>2015款 1.6T   双离合 两驱 智能型</td>\n      <td>北京现代途胜升级后动力弱油耗高厂家未回复</td>\n      <td>2020-06-06</td>\n      <td>信息审核</td>\n      <td>Q323</td>\n      <td>1</td>\n    </tr>\n    <tr>\n      <td>103143</td>\n      <td>480901</td>\n      <td>北京现代</td>\n      <td>途胜</td>\n      <td>2015款 1.6T   双离合 两驱 智能型</td>\n      <td>北京现代途胜厂家召回升级后油耗升高动力弱</td>\n      <td>2020-06-05</td>\n      <td>信息审核</td>\n      <td>Q323</td>\n      <td>1</td>\n    </tr>\n    <tr>\n      <td>103483</td>\n      <td>481421</td>\n      <td>奇瑞汽车</td>\n      <td>捷途X90</td>\n      <td>2019款 1.5T 自动 尊享型 6座 国V</td>\n      <td>捷途X90车机系统无法升级变速箱无最高挡</td>\n      <td>2020-06-07</td>\n      <td>处理反馈</td>\n      <td>Q349</td>\n      <td>1</td>\n    </tr>\n    <tr>\n      <td>104388</td>\n      <td>480810</td>\n      <td>吉利汽车</td>\n      <td>星越</td>\n      <td>2019款 改款 350T 耀星者</td>\n      <td>吉利星越车机卡顿版本与宣传不符</td>\n      <td>2020-06-05</td>\n      <td>处理反馈</td>\n      <td>Q350</td>\n      <td>1</td>\n    </tr>\n  </tbody>\n</table>\n<p>1089 rows × 9 columns</p>\n</div>"
     },
     "metadata": {},
     "execution_count": 6
    }
   ],
   "source": [
    "#convert data to long table\n",
    "result1 = result.melt(\n",
    "    id_vars = result.columns[:7].to_list(),\n",
    "    var_name = 'problem_type',\n",
    "    value_name = 'count'\n",
    ")\n",
    "result1 = result1[result1['count']!=0]\n",
    "result1"
   ]
  },
  {
   "cell_type": "code",
   "execution_count": 25,
   "metadata": {},
   "outputs": [],
   "source": [
    "#Step3:Statistic data\n",
    "#Create a function to query the number of complaints\n",
    "def Claim_count(dimension):\n",
    "    s1 = result1.groupby(dimension)['id'].nunique().sort_values(ascending=False).rename('投诉计数')\n",
    "    s2 = result1.groupby(dimension)['id'].count().sort_values(ascending=False).rename('投诉内容计数')\n",
    "    s3 = (s2 / s1).rename('平均投诉次数')\n",
    "    return pd.DataFrame([s1,s2,s3]).T"
   ]
  },
  {
   "cell_type": "code",
   "execution_count": 26,
   "metadata": {},
   "outputs": [
    {
     "output_type": "execute_result",
     "data": {
      "text/plain": "         投诉计数  投诉内容计数    平均投诉次数\n吉利汽车     96.0   192.0  2.000000\n一汽马自达    95.0   193.0  2.031579\n一汽-大众    52.0    77.0  1.480769\n上汽大众     36.0    57.0  1.583333\n一汽-大众奥迪  19.0    32.0  1.684211\n...       ...     ...       ...\n沃尔沃亚太     1.0     1.0  1.000000\n北汽新能源     1.0     3.0  3.000000\n北汽昌河      1.0     1.0  1.000000\n东风英菲尼迪    1.0     3.0  3.000000\n东风风行      1.0     2.0  2.000000\n\n[75 rows x 3 columns]",
      "text/html": "<div>\n<style scoped>\n    .dataframe tbody tr th:only-of-type {\n        vertical-align: middle;\n    }\n\n    .dataframe tbody tr th {\n        vertical-align: top;\n    }\n\n    .dataframe thead th {\n        text-align: right;\n    }\n</style>\n<table border=\"1\" class=\"dataframe\">\n  <thead>\n    <tr style=\"text-align: right;\">\n      <th></th>\n      <th>投诉计数</th>\n      <th>投诉内容计数</th>\n      <th>平均投诉次数</th>\n    </tr>\n  </thead>\n  <tbody>\n    <tr>\n      <td>吉利汽车</td>\n      <td>96.0</td>\n      <td>192.0</td>\n      <td>2.000000</td>\n    </tr>\n    <tr>\n      <td>一汽马自达</td>\n      <td>95.0</td>\n      <td>193.0</td>\n      <td>2.031579</td>\n    </tr>\n    <tr>\n      <td>一汽-大众</td>\n      <td>52.0</td>\n      <td>77.0</td>\n      <td>1.480769</td>\n    </tr>\n    <tr>\n      <td>上汽大众</td>\n      <td>36.0</td>\n      <td>57.0</td>\n      <td>1.583333</td>\n    </tr>\n    <tr>\n      <td>一汽-大众奥迪</td>\n      <td>19.0</td>\n      <td>32.0</td>\n      <td>1.684211</td>\n    </tr>\n    <tr>\n      <td>...</td>\n      <td>...</td>\n      <td>...</td>\n      <td>...</td>\n    </tr>\n    <tr>\n      <td>沃尔沃亚太</td>\n      <td>1.0</td>\n      <td>1.0</td>\n      <td>1.000000</td>\n    </tr>\n    <tr>\n      <td>北汽新能源</td>\n      <td>1.0</td>\n      <td>3.0</td>\n      <td>3.000000</td>\n    </tr>\n    <tr>\n      <td>北汽昌河</td>\n      <td>1.0</td>\n      <td>1.0</td>\n      <td>1.000000</td>\n    </tr>\n    <tr>\n      <td>东风英菲尼迪</td>\n      <td>1.0</td>\n      <td>3.0</td>\n      <td>3.000000</td>\n    </tr>\n    <tr>\n      <td>东风风行</td>\n      <td>1.0</td>\n      <td>2.0</td>\n      <td>2.000000</td>\n    </tr>\n  </tbody>\n</table>\n<p>75 rows × 3 columns</p>\n</div>"
     },
     "metadata": {},
     "execution_count": 26
    }
   ],
   "source": [
    "#Calculate by brand\n",
    "Claim_count(['brand'])"
   ]
  },
  {
   "cell_type": "code",
   "execution_count": 28,
   "metadata": {},
   "outputs": [
    {
     "output_type": "execute_result",
     "data": {
      "text/plain": "         投诉计数  投诉内容计数    平均投诉次数\n阿特兹      75.0   152.0  2.026667\n星越       43.0    92.0  2.139535\n速腾       22.0    33.0  1.500000\n马自达CX-4  20.0    41.0  2.050000\n博越       13.0    21.0  1.615385\n...       ...     ...       ...\n标致3008    1.0     1.0  1.000000\n标致2008    1.0     2.0  2.000000\n柳特        1.0     1.0  1.000000\n柯迪亚克GT    1.0     1.0  1.000000\nC4世嘉      1.0     2.0  2.000000\n\n[212 rows x 3 columns]",
      "text/html": "<div>\n<style scoped>\n    .dataframe tbody tr th:only-of-type {\n        vertical-align: middle;\n    }\n\n    .dataframe tbody tr th {\n        vertical-align: top;\n    }\n\n    .dataframe thead th {\n        text-align: right;\n    }\n</style>\n<table border=\"1\" class=\"dataframe\">\n  <thead>\n    <tr style=\"text-align: right;\">\n      <th></th>\n      <th>投诉计数</th>\n      <th>投诉内容计数</th>\n      <th>平均投诉次数</th>\n    </tr>\n  </thead>\n  <tbody>\n    <tr>\n      <td>阿特兹</td>\n      <td>75.0</td>\n      <td>152.0</td>\n      <td>2.026667</td>\n    </tr>\n    <tr>\n      <td>星越</td>\n      <td>43.0</td>\n      <td>92.0</td>\n      <td>2.139535</td>\n    </tr>\n    <tr>\n      <td>速腾</td>\n      <td>22.0</td>\n      <td>33.0</td>\n      <td>1.500000</td>\n    </tr>\n    <tr>\n      <td>马自达CX-4</td>\n      <td>20.0</td>\n      <td>41.0</td>\n      <td>2.050000</td>\n    </tr>\n    <tr>\n      <td>博越</td>\n      <td>13.0</td>\n      <td>21.0</td>\n      <td>1.615385</td>\n    </tr>\n    <tr>\n      <td>...</td>\n      <td>...</td>\n      <td>...</td>\n      <td>...</td>\n    </tr>\n    <tr>\n      <td>标致3008</td>\n      <td>1.0</td>\n      <td>1.0</td>\n      <td>1.000000</td>\n    </tr>\n    <tr>\n      <td>标致2008</td>\n      <td>1.0</td>\n      <td>2.0</td>\n      <td>2.000000</td>\n    </tr>\n    <tr>\n      <td>柳特</td>\n      <td>1.0</td>\n      <td>1.0</td>\n      <td>1.000000</td>\n    </tr>\n    <tr>\n      <td>柯迪亚克GT</td>\n      <td>1.0</td>\n      <td>1.0</td>\n      <td>1.000000</td>\n    </tr>\n    <tr>\n      <td>C4世嘉</td>\n      <td>1.0</td>\n      <td>2.0</td>\n      <td>2.000000</td>\n    </tr>\n  </tbody>\n</table>\n<p>212 rows × 3 columns</p>\n</div>"
     },
     "metadata": {},
     "execution_count": 28
    }
   ],
   "source": [
    "#Calculate by car_model\n",
    "Claim_count(['car_model'])"
   ]
  },
  {
   "cell_type": "code",
   "execution_count": 29,
   "metadata": {},
   "outputs": [
    {
     "output_type": "execute_result",
     "data": {
      "text/plain": "                 投诉计数  投诉内容计数    平均投诉次数\nbrand car_model                        \n一汽-大众 T-ROC探歌     3.0     3.0  1.000000\n      宝来          2.0     2.0  1.000000\n      探岳         11.0    13.0  1.181818\n      迈腾         10.0    22.0  2.200000\n      速腾         22.0    33.0  1.500000\n...               ...     ...       ...\n长安马自达 马自达CX-5     1.0     2.0  2.000000\n雷克萨斯  雷克萨斯CT      1.0     1.0  1.000000\n      雷克萨斯LS      1.0     1.0  1.000000\n领克汽车  领克01        3.0     4.0  1.333333\n      领克02        2.0     2.0  1.000000\n\n[213 rows x 3 columns]",
      "text/html": "<div>\n<style scoped>\n    .dataframe tbody tr th:only-of-type {\n        vertical-align: middle;\n    }\n\n    .dataframe tbody tr th {\n        vertical-align: top;\n    }\n\n    .dataframe thead th {\n        text-align: right;\n    }\n</style>\n<table border=\"1\" class=\"dataframe\">\n  <thead>\n    <tr style=\"text-align: right;\">\n      <th></th>\n      <th></th>\n      <th>投诉计数</th>\n      <th>投诉内容计数</th>\n      <th>平均投诉次数</th>\n    </tr>\n    <tr>\n      <th>brand</th>\n      <th>car_model</th>\n      <th></th>\n      <th></th>\n      <th></th>\n    </tr>\n  </thead>\n  <tbody>\n    <tr>\n      <td rowspan=\"5\" valign=\"top\">一汽-大众</td>\n      <td>T-ROC探歌</td>\n      <td>3.0</td>\n      <td>3.0</td>\n      <td>1.000000</td>\n    </tr>\n    <tr>\n      <td>宝来</td>\n      <td>2.0</td>\n      <td>2.0</td>\n      <td>1.000000</td>\n    </tr>\n    <tr>\n      <td>探岳</td>\n      <td>11.0</td>\n      <td>13.0</td>\n      <td>1.181818</td>\n    </tr>\n    <tr>\n      <td>迈腾</td>\n      <td>10.0</td>\n      <td>22.0</td>\n      <td>2.200000</td>\n    </tr>\n    <tr>\n      <td>速腾</td>\n      <td>22.0</td>\n      <td>33.0</td>\n      <td>1.500000</td>\n    </tr>\n    <tr>\n      <td>...</td>\n      <td>...</td>\n      <td>...</td>\n      <td>...</td>\n      <td>...</td>\n    </tr>\n    <tr>\n      <td>长安马自达</td>\n      <td>马自达CX-5</td>\n      <td>1.0</td>\n      <td>2.0</td>\n      <td>2.000000</td>\n    </tr>\n    <tr>\n      <td rowspan=\"2\" valign=\"top\">雷克萨斯</td>\n      <td>雷克萨斯CT</td>\n      <td>1.0</td>\n      <td>1.0</td>\n      <td>1.000000</td>\n    </tr>\n    <tr>\n      <td>雷克萨斯LS</td>\n      <td>1.0</td>\n      <td>1.0</td>\n      <td>1.000000</td>\n    </tr>\n    <tr>\n      <td rowspan=\"2\" valign=\"top\">领克汽车</td>\n      <td>领克01</td>\n      <td>3.0</td>\n      <td>4.0</td>\n      <td>1.333333</td>\n    </tr>\n    <tr>\n      <td>领克02</td>\n      <td>2.0</td>\n      <td>2.0</td>\n      <td>1.000000</td>\n    </tr>\n  </tbody>\n</table>\n<p>213 rows × 3 columns</p>\n</div>"
     },
     "metadata": {},
     "execution_count": 29
    }
   ],
   "source": [
    "#Calculate by brand and car_model\n",
    "Claim_count(['brand','car_model'])"
   ]
  }
 ],
 "metadata": {
  "language_info": {
   "name": "python",
   "codemirror_mode": {
    "name": "ipython",
    "version": 3
   },
   "version": "3.7.4-final"
  },
  "orig_nbformat": 2,
  "file_extension": ".py",
  "mimetype": "text/x-python",
  "name": "python",
  "npconvert_exporter": "python",
  "pygments_lexer": "ipython3",
  "version": 3,
  "kernelspec": {
   "name": "python3",
   "display_name": "Python 3"
  }
 },
 "nbformat": 4,
 "nbformat_minor": 2
}
