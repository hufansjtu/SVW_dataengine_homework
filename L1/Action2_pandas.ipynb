{
 "cells": [
  {
   "cell_type": "code",
   "execution_count": 2,
   "metadata": {},
   "outputs": [
    {
     "output_type": "stream",
     "name": "stdout",
     "text": "{'语文': [68, 95, 98, 90, 80], '数学': [65, 76, 86, 88, 90], '英语': [30, 98, 88, 77, 90]}\n"
    }
   ],
   "source": [
    "### use pandas to calculate\n",
    "import pandas as pd\n",
    "data = {'语文': [68, 95, 98, 90, 80], '数学': [65, 76, 86, 88, 90], '英语': [30, 98, 88, 77, 90]}\n",
    "print(data)"
   ]
  },
  {
   "cell_type": "code",
   "execution_count": 13,
   "metadata": {},
   "outputs": [
    {
     "output_type": "execute_result",
     "data": {
      "text/plain": "              语文          数学          英语\nmean   86.200000   81.000000   76.600000\nmax    98.000000   90.000000   98.000000\nmin    68.000000   65.000000   30.000000\nstd    12.255611   10.440307   27.107195\nvar   150.200000  109.000000  734.800000",
      "text/html": "<div>\n<style scoped>\n    .dataframe tbody tr th:only-of-type {\n        vertical-align: middle;\n    }\n\n    .dataframe tbody tr th {\n        vertical-align: top;\n    }\n\n    .dataframe thead th {\n        text-align: right;\n    }\n</style>\n<table border=\"1\" class=\"dataframe\">\n  <thead>\n    <tr style=\"text-align: right;\">\n      <th></th>\n      <th>语文</th>\n      <th>数学</th>\n      <th>英语</th>\n    </tr>\n  </thead>\n  <tbody>\n    <tr>\n      <td>mean</td>\n      <td>86.200000</td>\n      <td>81.000000</td>\n      <td>76.600000</td>\n    </tr>\n    <tr>\n      <td>max</td>\n      <td>98.000000</td>\n      <td>90.000000</td>\n      <td>98.000000</td>\n    </tr>\n    <tr>\n      <td>min</td>\n      <td>68.000000</td>\n      <td>65.000000</td>\n      <td>30.000000</td>\n    </tr>\n    <tr>\n      <td>std</td>\n      <td>12.255611</td>\n      <td>10.440307</td>\n      <td>27.107195</td>\n    </tr>\n    <tr>\n      <td>var</td>\n      <td>150.200000</td>\n      <td>109.000000</td>\n      <td>734.800000</td>\n    </tr>\n  </tbody>\n</table>\n</div>"
     },
     "metadata": {},
     "execution_count": 13
    }
   ],
   "source": [
    "df = pd.DataFrame(data,index = ['张飞','关羽','刘备','典韦','许诸'])\n",
    "df1 = df.describe().loc[['mean','max','min','std']]\n",
    "df1.loc['var']=[df['语文'].var(),df['数学'].var(),df['英语'].var()]\n",
    "df1"
   ]
  },
  {
   "cell_type": "code",
   "execution_count": 4,
   "metadata": {},
   "outputs": [
    {
     "output_type": "execute_result",
     "data": {
      "text/plain": "    语文  数学  英语   总分   名次\n刘备  98  86  88  272  5.0\n关羽  95  76  98  269  4.0\n许诸  80  90  90  260  3.0\n典韦  90  88  77  255  2.0\n张飞  68  65  30  163  1.0",
      "text/html": "<div>\n<style scoped>\n    .dataframe tbody tr th:only-of-type {\n        vertical-align: middle;\n    }\n\n    .dataframe tbody tr th {\n        vertical-align: top;\n    }\n\n    .dataframe thead th {\n        text-align: right;\n    }\n</style>\n<table border=\"1\" class=\"dataframe\">\n  <thead>\n    <tr style=\"text-align: right;\">\n      <th></th>\n      <th>语文</th>\n      <th>数学</th>\n      <th>英语</th>\n      <th>总分</th>\n      <th>名次</th>\n    </tr>\n  </thead>\n  <tbody>\n    <tr>\n      <td>刘备</td>\n      <td>98</td>\n      <td>86</td>\n      <td>88</td>\n      <td>272</td>\n      <td>5.0</td>\n    </tr>\n    <tr>\n      <td>关羽</td>\n      <td>95</td>\n      <td>76</td>\n      <td>98</td>\n      <td>269</td>\n      <td>4.0</td>\n    </tr>\n    <tr>\n      <td>许诸</td>\n      <td>80</td>\n      <td>90</td>\n      <td>90</td>\n      <td>260</td>\n      <td>3.0</td>\n    </tr>\n    <tr>\n      <td>典韦</td>\n      <td>90</td>\n      <td>88</td>\n      <td>77</td>\n      <td>255</td>\n      <td>2.0</td>\n    </tr>\n    <tr>\n      <td>张飞</td>\n      <td>68</td>\n      <td>65</td>\n      <td>30</td>\n      <td>163</td>\n      <td>1.0</td>\n    </tr>\n  </tbody>\n</table>\n</div>"
     },
     "metadata": {},
     "execution_count": 4
    }
   ],
   "source": [
    "df['总分']=df.sum(axis=1)\n",
    "df['名次']=df['总分'].rank()\n",
    "df.sort_values('总分',ascending=0)"
   ]
  }
 ],
 "metadata": {
  "kernelspec": {
   "display_name": "Python 3",
   "language": "python",
   "name": "python3"
  },
  "language_info": {
   "codemirror_mode": {
    "name": "ipython",
    "version": 3
   },
   "file_extension": ".py",
   "mimetype": "text/x-python",
   "name": "python",
   "nbconvert_exporter": "python",
   "pygments_lexer": "ipython3",
   "version": "3.7.4-final"
  }
 },
 "nbformat": 4,
 "nbformat_minor": 2
}
